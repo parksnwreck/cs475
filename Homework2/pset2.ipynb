{
 "cells": [
  {
   "cell_type": "markdown",
   "metadata": {},
   "source": [
    "# CPSC 475 PSET 2 (Jun Park)"
   ]
  },
  {
   "cell_type": "markdown",
   "metadata": {},
   "source": [
    "\n",
    "# 1a"
   ]
  },
  {
   "cell_type": "markdown",
   "metadata": {},
   "source": [
    "Observations:\n",
    "\n",
    "1. current = 0 nA => the membrane potential eventually plauteaus to the resting membrane potential of -70mV.\n",
    "2. current = 1 nA => the membrane potential remains at -60mV because leakage and the input current are negating one another.\n",
    "3. current = 10 nA => the membrane potential exhibits a series of periodic spikes dropping to -80 mV after each spike.\n",
    "\n",
    "The resting membrane potential is not be affected by the input current because it is the hardwired biological resting state of a particular neuron (in this case, -70mV). In other words, it is the naturally occuring resting state that the neuron will eventually reach due to leakage when there is no input current. This resting membrane potential is constant for all input currents because it solely depends on the neuron's biological code."
   ]
  },
  {
   "cell_type": "markdown",
   "metadata": {},
   "source": [
    "# 1b"
   ]
  },
  {
   "cell_type": "markdown",
   "metadata": {},
   "source": [
    "Observations:\n",
    "\n",
    "1. Initial membrane potential: -80 mV\n",
    "    * current = 0 nA => the membrane potential eventually plauteaus to the resting membrane potential of -70mV (however plauteaus upwards since -80 mV < -70 mV).\n",
    "    * current = 1 nA => the membrane potential eventually plauteaus at -60 mV because leakage and the input current   negate each other at this membrane potential value (plauteaus upwards since -80 mV < -60 mV). \n",
    "    * current = 10 nA => the membrane potential exhibits a series of periodic spikes dropping to -80mv after each spike.\n",
    "\n",
    "2. Initial membrane potential: 0 mV\n",
    "    * current = 0 nA => the membrane potential drops to -80 mV immediately (since 0 mV > threshold potential) and eventually plauteaus to the resting membrane potential of -70mV.\n",
    "    * current = 1 nA => the membrane potential drops to -80 mV immediately (since 0 mV > threshold potential) and eventually plauteaus -60mV because leakage and the input current negate each other at this membrane potential. \n",
    "    * current = 10 nA => the membrane potential drops to -80 mV immediately and continues as a series of periodic spikes dropping to -80 mV after each spike.\n",
    "    \n",
    "Although the neurons' behaviors varied slightly, they were mostly consistent with the behavior of the neuron in 1a. When the input current was set at 0 nA, both neurons in 1b eventually plauteaued to the resting membrane potential of -70 mV. When the input current was set at 1nA, both neurons in 1b eventually plauteued to -60 mV, which was the value at which the leakage negated the input current value. When the current was set high at 10 nA, both neurons went into a series of periodic spikes dropping to -80 mV after each spike. These variations and consistencies were expected since the biological hardwiring of the neuron did not change from 1a. We still operated with the same resting membrane potential, threshold potential and leakage. The only true variation was the starting point."
   ]
  },
  {
   "cell_type": "markdown",
   "metadata": {},
   "source": [
    "# 1c"
   ]
  },
  {
   "cell_type": "markdown",
   "metadata": {},
   "source": [
    "Neuron 2 exhibits similar behavior to the neuron in 1a except for certain variations due to the fact that its initial membrane potential is equal to resting membrane potential (-70 mV) and the connections from Neuron 1 inhibit its membrane potential. When the input current is 0 nA, the membrane potential of Neuron 2, instead of remaining at the resting membrane potential of -70 mV, drops lower than the resting potential. When the input current is 1 nA, the membrane potential of Neuron 2 is unable to quite reach -60 mV which is where the input current negates leakage. When the input current is 10 nA, the membrane potential of Neuron 2 is able to reach the treshold potential despite the inhibitory effects (since the current is relatively much higher) and enters into a series of periodic spikes dropping to -80 mV after each spike. It is important to note that each spike in Neuron 1 corresponds to the start of a drop (or a surge of inhibition) for Neuron 2."
   ]
  },
  {
   "cell_type": "markdown",
   "metadata": {},
   "source": [
    "# 1d"
   ]
  },
  {
   "cell_type": "markdown",
   "metadata": {},
   "source": [
    "Neuron 1 exerts excitatory effects on Neuron 2 so that it makes it easier for Neuron 2 to overcome its threshold potential. When the input current is 0 nA, the membrane potential of Neuron 2, instead of remaining at the resting membrane potential of -70 mV, increases over the resting potential. When the input current is 1 nA, the membrane potential of Neuron 2 is able to overcome the threshold potential due to excitatory effects and produce spikes. When the input current is 10 nA, the current seems to be high enough so that the excitatory effects from Neuron 1 become insignificant. Thus, the membrane potential of Neuron 2 enters a series of periodic spikes dropping to -80 mV after each spike at a significantly higher frequency than when the current was 1 nA."
   ]
  },
  {
   "cell_type": "markdown",
   "metadata": {},
   "source": [
    "# 1e"
   ]
  },
  {
   "cell_type": "markdown",
   "metadata": {},
   "source": [
    "For excitatory connections, neurons tend to synchronize their spikes when they have the same initial membrane potentials. However, when they have different initial membrane potentials, there seems to be a phase offset. For inhibitory connections, neurons tend to synchronize their spikes regardless of their initial membrane potentials."
   ]
  },
  {
   "cell_type": "markdown",
   "metadata": {},
   "source": [
    "# 2d"
   ]
  },
  {
   "cell_type": "code",
   "execution_count": 1,
   "metadata": {},
   "outputs": [],
   "source": [
    "import numpy as np\n",
    "import matplotlib.pyplot as plt"
   ]
  },
  {
   "cell_type": "code",
   "execution_count": 2,
   "metadata": {
    "scrolled": true
   },
   "outputs": [
    {
     "name": "stdout",
     "output_type": "stream",
     "text": [
      "[[0.33333333 0.33333333 0.33333333 0.         0.         0.        ]\n",
      " [0.         0.         0.         0.33333333 0.33333333 0.33333333]]\n"
     ]
    }
   ],
   "source": [
    "w = [1,2,3,4,5,6]\n",
    "matrx = np.array([[(1/3), (1/3), (1/3), 0, 0 ,0],[0, 0, 0, (1/3), (1/3), (1/3)]])\n",
    "\n",
    "print(matrx)"
   ]
  },
  {
   "cell_type": "markdown",
   "metadata": {},
   "source": [
    "# 2e"
   ]
  },
  {
   "cell_type": "code",
   "execution_count": 3,
   "metadata": {},
   "outputs": [
    {
     "name": "stdout",
     "output_type": "stream",
     "text": [
      "[[ 1.  -0.2  0.   0.   0.   0.   0.   0.   0.   0. ]\n",
      " [-0.2  1.  -0.2  0.   0.   0.   0.   0.   0.   0. ]\n",
      " [ 0.  -0.2  1.  -0.2  0.   0.   0.   0.   0.   0. ]\n",
      " [ 0.   0.  -0.2  1.  -0.2  0.   0.   0.   0.   0. ]\n",
      " [ 0.   0.   0.  -0.2  1.  -0.2  0.   0.   0.   0. ]\n",
      " [ 0.   0.   0.   0.  -0.2  1.  -0.2  0.   0.   0. ]\n",
      " [ 0.   0.   0.   0.   0.  -0.2  1.  -0.2  0.   0. ]\n",
      " [ 0.   0.   0.   0.   0.   0.  -0.2  1.  -0.2  0. ]\n",
      " [ 0.   0.   0.   0.   0.   0.   0.  -0.2  1.  -0.2]\n",
      " [ 0.   0.   0.   0.   0.   0.   0.   0.  -0.2  1. ]]\n"
     ]
    }
   ],
   "source": [
    "ff = np.zeros((10,10))\n",
    "np.fill_diagonal(ff, 1)\n",
    "\n",
    "a = -0.2\n",
    "\n",
    "for i in range(10):\n",
    "    if i == 0:\n",
    "        ff[0][1] = a\n",
    "    elif i == 9:\n",
    "        ff[9][8] = a\n",
    "    else:\n",
    "        ff[i][i-1] = a\n",
    "        ff[i][i+1] = a\n",
    "\n",
    "print(ff)"
   ]
  },
  {
   "cell_type": "markdown",
   "metadata": {},
   "source": [
    "# 2f"
   ]
  },
  {
   "cell_type": "code",
   "execution_count": 4,
   "metadata": {},
   "outputs": [
    {
     "data": {
      "text/plain": [
       "[<matplotlib.lines.Line2D at 0x107f51710>]"
      ]
     },
     "execution_count": 4,
     "metadata": {},
     "output_type": "execute_result"
    },
    {
     "data": {
      "image/png": "[encoded data removed]",
      "text/plain": [
       "<Figure size 432x288 with 1 Axes>"
      ]
     },
     "metadata": {
      "needs_background": "light"
     },
     "output_type": "display_data"
    }
   ],
   "source": [
    "v = [10,10,10,10,10,20,20,20,20,20]\n",
    "xcoords = [0,1,2,3,4,5,6,7,8,9]\n",
    "plt.plot(xcoords,v)"
   ]
  },
  {
   "cell_type": "markdown",
   "metadata": {},
   "source": [
    "The function above resembles a step function."
   ]
  },
  {
   "cell_type": "code",
   "execution_count": 5,
   "metadata": {},
   "outputs": [
    {
     "name": "stdout",
     "output_type": "stream",
     "text": [
      "[ 8.  6.  6.  6.  4. 14. 12. 12. 12. 16.]\n"
     ]
    }
   ],
   "source": [
    "vout = np.dot(ff,v)\n",
    "print(vout)"
   ]
  },
  {
   "cell_type": "markdown",
   "metadata": {},
   "source": [
    "The output vector can be interpreted as vector that has gone through a sharpening filter."
   ]
  },
  {
   "cell_type": "code",
   "execution_count": 6,
   "metadata": {},
   "outputs": [
    {
     "data": {
      "text/plain": [
       "<matplotlib.image.AxesImage at 0x1171f4e10>"
      ]
     },
     "execution_count": 6,
     "metadata": {},
     "output_type": "execute_result"
    },
    {
     "data": {
      "image/png": "[encoded data removed]",
      "text/plain": [
       "<Figure size 432x288 with 1 Axes>"
      ]
     },
     "metadata": {
      "needs_background": "light"
     },
     "output_type": "display_data"
    }
   ],
   "source": [
    "plt.imshow([v], cmap='gray')"
   ]
  },
  {
   "cell_type": "code",
   "execution_count": 7,
   "metadata": {},
   "outputs": [
    {
     "data": {
      "text/plain": [
       "<matplotlib.image.AxesImage at 0x117268f90>"
      ]
     },
     "execution_count": 7,
     "metadata": {},
     "output_type": "execute_result"
    },
    {
     "data": {
      "image/png": "[encoded data removed]",
      "text/plain": [
       "<Figure size 432x288 with 1 Axes>"
      ]
     },
     "metadata": {
      "needs_background": "light"
     },
     "output_type": "display_data"
    }
   ],
   "source": [
    "plt.imshow([vout[1:-1]], cmap='gray')"
   ]
  },
  {
   "cell_type": "markdown",
   "metadata": {},
   "source": [
    "# 2g"
   ]
  },
  {
   "cell_type": "code",
   "execution_count": 8,
   "metadata": {},
   "outputs": [
    {
     "name": "stdout",
     "output_type": "stream",
     "text": [
      "[[1.         0.33333333 0.         0.         0.         0.\n",
      "  0.         0.         0.         0.        ]\n",
      " [0.33333333 1.         0.33333333 0.         0.         0.\n",
      "  0.         0.         0.         0.        ]\n",
      " [0.         0.33333333 1.         0.33333333 0.         0.\n",
      "  0.         0.         0.         0.        ]\n",
      " [0.         0.         0.33333333 1.         0.33333333 0.\n",
      "  0.         0.         0.         0.        ]\n",
      " [0.         0.         0.         0.33333333 1.         0.33333333\n",
      "  0.         0.         0.         0.        ]\n",
      " [0.         0.         0.         0.         0.33333333 1.\n",
      "  0.33333333 0.         0.         0.        ]\n",
      " [0.         0.         0.         0.         0.         0.33333333\n",
      "  1.         0.33333333 0.         0.        ]\n",
      " [0.         0.         0.         0.         0.         0.\n",
      "  0.33333333 1.         0.33333333 0.        ]\n",
      " [0.         0.         0.         0.         0.         0.\n",
      "  0.         0.33333333 1.         0.33333333]\n",
      " [0.         0.         0.         0.         0.         0.\n",
      "  0.         0.         0.33333333 1.        ]]\n"
     ]
    }
   ],
   "source": [
    "ff2 = np.zeros((10,10))\n",
    "np.fill_diagonal(ff2, 1)\n",
    "\n",
    "a = 1/3\n",
    "\n",
    "for i in range(10):\n",
    "    if i == 0:\n",
    "        ff2[0][1] = a\n",
    "    elif i == 9:\n",
    "        ff2[9][8] = a\n",
    "    else:\n",
    "        ff2[i][i-1] = a\n",
    "        ff2[i][i+1] = a\n",
    "\n",
    "print(ff2)"
   ]
  },
  {
   "cell_type": "code",
   "execution_count": 9,
   "metadata": {},
   "outputs": [
    {
     "name": "stdout",
     "output_type": "stream",
     "text": [
      "[13.33333333 16.66666667 16.66666667 16.66666667 20.         30.\n",
      " 33.33333333 33.33333333 33.33333333 26.66666667]\n"
     ]
    }
   ],
   "source": [
    "print(np.dot(ff2,v))"
   ]
  },
  {
   "cell_type": "code",
   "execution_count": 10,
   "metadata": {},
   "outputs": [
    {
     "name": "stdout",
     "output_type": "stream",
     "text": [
      "[12.66666667 14.66666667 15.33333333 14.66666667 15.33333333 14.66666667\n",
      " 15.33333333 14.66666667 15.33333333 11.33333333]\n"
     ]
    }
   ],
   "source": [
    "v2 = [10,8,10,8,10,8,10,8,10,8]\n",
    "\n",
    "print(np.dot(ff2, v2))"
   ]
  },
  {
   "cell_type": "markdown",
   "metadata": {},
   "source": [
    "This feedforward model and matrix can be interpreted as a blurring filter."
   ]
  },
  {
   "cell_type": "markdown",
   "metadata": {},
   "source": [
    "# 2h"
   ]
  },
  {
   "cell_type": "markdown",
   "metadata": {},
   "source": [
    "I expect the combined action of this system to give us an output vector that is close to the original input vector but is not exactly the same. This result can be expected because blurring is not the inverse of sharpening (and vice versa) and one cannot completely undo the effects of the other."
   ]
  },
  {
   "cell_type": "code",
   "execution_count": 11,
   "metadata": {},
   "outputs": [
    {
     "name": "stdout",
     "output_type": "stream",
     "text": [
      "[[ 0.93333333  0.13333333 -0.06666667  0.          0.          0.\n",
      "   0.          0.          0.          0.        ]\n",
      " [ 0.13333333  0.86666667  0.13333333 -0.06666667  0.          0.\n",
      "   0.          0.          0.          0.        ]\n",
      " [-0.06666667  0.13333333  0.86666667  0.13333333 -0.06666667  0.\n",
      "   0.          0.          0.          0.        ]\n",
      " [ 0.         -0.06666667  0.13333333  0.86666667  0.13333333 -0.06666667\n",
      "   0.          0.          0.          0.        ]\n",
      " [ 0.          0.         -0.06666667  0.13333333  0.86666667  0.13333333\n",
      "  -0.06666667  0.          0.          0.        ]\n",
      " [ 0.          0.          0.         -0.06666667  0.13333333  0.86666667\n",
      "   0.13333333 -0.06666667  0.          0.        ]\n",
      " [ 0.          0.          0.          0.         -0.06666667  0.13333333\n",
      "   0.86666667  0.13333333 -0.06666667  0.        ]\n",
      " [ 0.          0.          0.          0.          0.         -0.06666667\n",
      "   0.13333333  0.86666667  0.13333333 -0.06666667]\n",
      " [ 0.          0.          0.          0.          0.          0.\n",
      "  -0.06666667  0.13333333  0.86666667  0.13333333]\n",
      " [ 0.          0.          0.          0.          0.          0.\n",
      "   0.         -0.06666667  0.13333333  0.93333333]]\n"
     ]
    }
   ],
   "source": [
    "fft = np.dot(ff, ff2)\n",
    "print(fft)"
   ]
  },
  {
   "cell_type": "code",
   "execution_count": 12,
   "metadata": {},
   "outputs": [
    {
     "name": "stdout",
     "output_type": "stream",
     "text": [
      "[10.         10.66666667 10.         10.         10.         10.\n",
      " 10.         10.         10.66666667 10.        ]\n"
     ]
    }
   ],
   "source": [
    "v3 = [10,10,10,10,10,10,10,10,10,10]\n",
    "print(np.dot(fft, v3))"
   ]
  },
  {
   "cell_type": "markdown",
   "metadata": {},
   "source": [
    "The resulting vector above confirms my hypothesis."
   ]
  }
 ],
 "metadata": {
  "kernelspec": {
   "display_name": "Python 3",
   "language": "python",
   "name": "python3"
  },
  "language_info": {
   "codemirror_mode": {
    "name": "ipython",
    "version": 3
   },
   "file_extension": ".py",
   "mimetype": "text/x-python",
   "name": "python",
   "nbconvert_exporter": "python",
   "pygments_lexer": "ipython3",
   "version": "3.7.4"
  }
 },
 "nbformat": 4,
 "nbformat_minor": 2
}
